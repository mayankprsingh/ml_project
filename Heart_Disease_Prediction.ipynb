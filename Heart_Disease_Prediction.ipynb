{
  "nbformat": 4,
  "nbformat_minor": 0,
  "metadata": {
    "colab": {
      "name": "Heart Disease Prediction.ipynb",
      "provenance": [],
      "collapsed_sections": []
    },
    "kernelspec": {
      "name": "python3",
      "display_name": "Python 3"
    }
  },
  "cells": [
    {
      "cell_type": "markdown",
      "metadata": {
        "id": "60UUN-KZ5_HH",
        "colab_type": "text"
      },
      "source": [
        "**Heart Disease Prediction**"
      ]
    },
    {
      "cell_type": "markdown",
      "metadata": {
        "id": "48-ARNn-BSmb",
        "colab_type": "text"
      },
      "source": [
        "**Reading Dataset**"
      ]
    },
    {
      "cell_type": "code",
      "metadata": {
        "id": "hEK7iEVqqqj6",
        "colab_type": "code",
        "outputId": "a8943f5d-1465-4499-9883-82ad52e7c8b8",
        "colab": {
          "base_uri": "https://localhost:8080/",
          "height": 34
        }
      },
      "source": [
        "#importing libraries\n",
        "import os\n",
        "import numpy as np # numpy is used for fast mathematical computation on arrays and matrices.\n",
        "import pandas as pd\n",
        "# visualisation librarry\n",
        "import seaborn as sns \n",
        "import matplotlib.pyplot as plt\n",
        "%matplotlib inline\n",
        "# sklearn libraries\n",
        "from sklearn.model_selection import train_test_split\n",
        "from sklearn.metrics import classification_report, accuracy_score\n",
        "# keras for ANN model\n",
        "from keras.layers import Dense\n",
        "import tensorflow as tf\n",
        "from tensorflow.python.keras.models import Sequential\n",
        "from tensorflow.python.keras.layers import Dense\n",
        "from tensorflow.python.keras.optimizers import Adam\n",
        "\n",
        "from google.colab import drive\n",
        "drive.mount('/content/drive')\n"
      ],
      "execution_count": 5,
      "outputs": [
        {
          "output_type": "stream",
          "text": [
            "Drive already mounted at /content/drive; to attempt to forcibly remount, call drive.mount(\"/content/drive\", force_remount=True).\n"
          ],
          "name": "stdout"
        }
      ]
    },
    {
      "cell_type": "code",
      "metadata": {
        "id": "44O3h4TNhFqr",
        "colab_type": "code",
        "colab": {
          "base_uri": "https://localhost:8080/",
          "height": 255
        },
        "outputId": "56a7e208-a2ec-499f-8367-6f10a1a112c1"
      },
      "source": [
        "df=pd.read_csv('/content/drive/My Drive/Data/heart.csv')\n",
        "print(df)"
      ],
      "execution_count": 7,
      "outputs": [
        {
          "output_type": "stream",
          "text": [
            "     age  sex  cp  trestbps  chol  fbs  ...  exang  oldpeak  slope  ca  thal  target\n",
            "0     63    1   3       145   233    1  ...      0      2.3      0   0     1       1\n",
            "1     37    1   2       130   250    0  ...      0      3.5      0   0     2       1\n",
            "2     41    0   1       130   204    0  ...      0      1.4      2   0     2       1\n",
            "3     56    1   1       120   236    0  ...      0      0.8      2   0     2       1\n",
            "4     57    0   0       120   354    0  ...      1      0.6      2   0     2       1\n",
            "..   ...  ...  ..       ...   ...  ...  ...    ...      ...    ...  ..   ...     ...\n",
            "298   57    0   0       140   241    0  ...      1      0.2      1   0     3       0\n",
            "299   45    1   3       110   264    0  ...      0      1.2      1   0     3       0\n",
            "300   68    1   0       144   193    1  ...      0      3.4      1   2     3       0\n",
            "301   57    1   0       130   131    0  ...      1      1.2      1   1     3       0\n",
            "302   57    0   1       130   236    0  ...      0      0.0      1   1     2       0\n",
            "\n",
            "[303 rows x 14 columns]\n"
          ],
          "name": "stdout"
        }
      ]
    },
    {
      "cell_type": "markdown",
      "metadata": {
        "id": "g5KtomkiBYeC",
        "colab_type": "text"
      },
      "source": [
        "**Rows and Column Information**"
      ]
    },
    {
      "cell_type": "code",
      "metadata": {
        "id": "3og_8DbCXM2y",
        "colab_type": "code",
        "outputId": "00797426-c03f-423c-df66-ae98c37895c4",
        "colab": {
          "base_uri": "https://localhost:8080/",
          "height": 34
        }
      },
      "source": [
        "print(df.shape) # rows and column"
      ],
      "execution_count": 8,
      "outputs": [
        {
          "output_type": "stream",
          "text": [
            "(303, 14)\n"
          ],
          "name": "stdout"
        }
      ]
    },
    {
      "cell_type": "code",
      "metadata": {
        "id": "DVYY2_6dKt39",
        "colab_type": "code",
        "outputId": "ca0e7259-9fb4-48e7-d2d7-fc41b6cc0ebf",
        "colab": {
          "base_uri": "https://localhost:8080/",
          "height": 68
        }
      },
      "source": [
        "# TO checking all the columns of the data\n",
        "print(df.columns) "
      ],
      "execution_count": 9,
      "outputs": [
        {
          "output_type": "stream",
          "text": [
            "Index(['age', 'sex', 'cp', 'trestbps', 'chol', 'fbs', 'restecg', 'thalach',\n",
            "       'exang', 'oldpeak', 'slope', 'ca', 'thal', 'target'],\n",
            "      dtype='object')\n"
          ],
          "name": "stdout"
        }
      ]
    },
    {
      "cell_type": "code",
      "metadata": {
        "id": "H_SUhZqmYRXg",
        "colab_type": "code",
        "outputId": "50996dae-eee2-4f8a-d60c-89429d18cc15",
        "colab": {
          "base_uri": "https://localhost:8080/",
          "height": 272
        }
      },
      "source": [
        "# To checking data types of the data\n",
        "print(df.dtypes) "
      ],
      "execution_count": 10,
      "outputs": [
        {
          "output_type": "stream",
          "text": [
            "age           int64\n",
            "sex           int64\n",
            "cp            int64\n",
            "trestbps      int64\n",
            "chol          int64\n",
            "fbs           int64\n",
            "restecg       int64\n",
            "thalach       int64\n",
            "exang         int64\n",
            "oldpeak     float64\n",
            "slope         int64\n",
            "ca            int64\n",
            "thal          int64\n",
            "target        int64\n",
            "dtype: object\n"
          ],
          "name": "stdout"
        }
      ]
    },
    {
      "cell_type": "code",
      "metadata": {
        "id": "TWU6lxF8Y9mW",
        "colab_type": "code",
        "outputId": "a212a4e2-bba8-4ad2-f71b-1b949b67b7d4",
        "colab": {
          "base_uri": "https://localhost:8080/",
          "height": 272
        }
      },
      "source": [
        "#To checking any missing value in data\n",
        "print(df.isnull().sum()) "
      ],
      "execution_count": 12,
      "outputs": [
        {
          "output_type": "stream",
          "text": [
            "age         0\n",
            "sex         0\n",
            "cp          0\n",
            "trestbps    0\n",
            "chol        0\n",
            "fbs         0\n",
            "restecg     0\n",
            "thalach     0\n",
            "exang       0\n",
            "oldpeak     0\n",
            "slope       0\n",
            "ca          0\n",
            "thal        0\n",
            "target      0\n",
            "dtype: int64\n"
          ],
          "name": "stdout"
        }
      ]
    },
    {
      "cell_type": "markdown",
      "metadata": {
        "id": "tikLHt9zByGa",
        "colab_type": "text"
      },
      "source": [
        "We don't have any missing value in dataset"
      ]
    },
    {
      "cell_type": "markdown",
      "metadata": {
        "id": "8O-7ILxNB_wo",
        "colab_type": "text"
      },
      "source": [
        "**Conclude Statical Data**"
      ]
    },
    {
      "cell_type": "code",
      "metadata": {
        "id": "CL-q4LMCLM7Z",
        "colab_type": "code",
        "outputId": "05ef949e-bd28-4bcf-ccf0-3e2a6ab124e7",
        "colab": {
          "base_uri": "https://localhost:8080/",
          "height": 204
        }
      },
      "source": [
        "#The describe() method is used for calculating some statistical data like percentile, mean and std \n",
        "#of the numerical values of the Series or DataFrame. \n",
        "print(df.describe()) "
      ],
      "execution_count": 13,
      "outputs": [
        {
          "output_type": "stream",
          "text": [
            "              age         sex          cp  ...          ca        thal      target\n",
            "count  303.000000  303.000000  303.000000  ...  303.000000  303.000000  303.000000\n",
            "mean    54.366337    0.683168    0.966997  ...    0.729373    2.313531    0.544554\n",
            "std      9.082101    0.466011    1.032052  ...    1.022606    0.612277    0.498835\n",
            "min     29.000000    0.000000    0.000000  ...    0.000000    0.000000    0.000000\n",
            "25%     47.500000    0.000000    0.000000  ...    0.000000    2.000000    0.000000\n",
            "50%     55.000000    1.000000    1.000000  ...    0.000000    2.000000    1.000000\n",
            "75%     61.000000    1.000000    2.000000  ...    1.000000    3.000000    1.000000\n",
            "max     77.000000    1.000000    3.000000  ...    4.000000    3.000000    1.000000\n",
            "\n",
            "[8 rows x 14 columns]\n"
          ],
          "name": "stdout"
        }
      ]
    },
    {
      "cell_type": "markdown",
      "metadata": {
        "id": "vLEnfwh9BN9Z",
        "colab_type": "text"
      },
      "source": [
        "# GENDER INFORMATION"
      ]
    },
    {
      "cell_type": "code",
      "metadata": {
        "id": "aMqDqUDETGrh",
        "colab_type": "code",
        "outputId": "b5fabe70-fba8-4c60-c907-6bf509d5f611",
        "colab": {
          "base_uri": "https://localhost:8080/",
          "height": 399
        }
      },
      "source": [
        "print(\"FEMALE: \",len(df[df['sex']==0])) #female = 0\n",
        "print(\"MALE: \",len(df[df['sex']==1])) # male =1 \n",
        "\n",
        "# we can also see in visualization\n",
        "\n",
        "plt.figure(figsize=(10,5))\n",
        "sns.countplot(df['sex'],color='lightblue')\n",
        "plt.xlabel('Age')\n",
        "plt.ylabel('Frequency')\n",
        "plt.title('Distribution of age', fontsize=10)"
      ],
      "execution_count": 14,
      "outputs": [
        {
          "output_type": "stream",
          "text": [
            "FEMALE:  96\n",
            "MALE:  207\n"
          ],
          "name": "stdout"
        },
        {
          "output_type": "execute_result",
          "data": {
            "text/plain": [
              "Text(0.5, 1.0, 'Distribution of age')"
            ]
          },
          "metadata": {
            "tags": []
          },
          "execution_count": 14
        },
        {
          "output_type": "display_data",
          "data": {
            "image/png": "[encoded data removed]",
            "text/plain": [
              "<Figure size 720x360 with 1 Axes>"
            ]
          },
          "metadata": {
            "tags": []
          }
        }
      ]
    },
    {
      "cell_type": "markdown",
      "metadata": {
        "id": "XUoo836KZQSh",
        "colab_type": "text"
      },
      "source": [
        "AS you can see in the plot females & males occurence"
      ]
    },
    {
      "cell_type": "markdown",
      "metadata": {
        "id": "ZRECt3nQbTlN",
        "colab_type": "text"
      },
      "source": [
        "**DISTRIBUTION OF AGE**"
      ]
    },
    {
      "cell_type": "code",
      "metadata": {
        "id": "NCV3pmLtbQJC",
        "colab_type": "code",
        "outputId": "58024551-a840-4f6e-8626-8d33efe7b2b8",
        "colab": {
          "base_uri": "https://localhost:8080/",
          "height": 365
        }
      },
      "source": [
        "\n",
        "plt.figure(figsize=(10,5))\n",
        "sns.distplot(df['age'], hist=True, bins=20, color='grey') # using distplot \n",
        "plt.xlabel('Age')\n",
        "plt.ylabel('Frequency')\n",
        "plt.title('Distribution of age', fontsize=10)"
      ],
      "execution_count": 15,
      "outputs": [
        {
          "output_type": "execute_result",
          "data": {
            "text/plain": [
              "Text(0.5, 1.0, 'Distribution of age')"
            ]
          },
          "metadata": {
            "tags": []
          },
          "execution_count": 15
        },
        {
          "output_type": "display_data",
          "data": {
            "image/png": "[encoded data removed]",
            "text/plain": [
              "<Figure size 720x360 with 1 Axes>"
            ]
          },
          "metadata": {
            "tags": []
          }
        }
      ]
    },
    {
      "cell_type": "markdown",
      "metadata": {
        "id": "le-fT395CO6y",
        "colab_type": "text"
      },
      "source": [
        "As you can se in the age gap between 50-60 we have more pataint"
      ]
    },
    {
      "cell_type": "markdown",
      "metadata": {
        "id": "5myY7D88fIYT",
        "colab_type": "text"
      },
      "source": [
        "**Visualization of data with one more feature for those who has chest pain (feature)**\n"
      ]
    },
    {
      "cell_type": "code",
      "metadata": {
        "id": "RcsfCfcJfIrb",
        "colab_type": "code",
        "outputId": "38aa708a-ccd3-481a-eaa9-6e4455522266",
        "colab": {
          "base_uri": "https://localhost:8080/",
          "height": 296
        }
      },
      "source": [
        "sns.countplot(data=df, x='cp', hue = 'target', palette= 'Set2')\n",
        "plt.xlabel('Chest pain in people with and without heart disease')\n",
        "plt.legend( loc='upper right', labels=['Without heart disease', 'With heart disease'])"
      ],
      "execution_count": 16,
      "outputs": [
        {
          "output_type": "execute_result",
          "data": {
            "text/plain": [
              "<matplotlib.legend.Legend at 0x7fdf0b0b2e10>"
            ]
          },
          "metadata": {
            "tags": []
          },
          "execution_count": 16
        },
        {
          "output_type": "display_data",
          "data": {
            "image/png": "[encoded data removed]",
            "text/plain": [
              "<Figure size 432x288 with 1 Axes>"
            ]
          },
          "metadata": {
            "tags": []
          }
        }
      ]
    },
    {
      "cell_type": "markdown",
      "metadata": {
        "id": "hnivMH1NdSUH",
        "colab_type": "text"
      },
      "source": [
        "**SCATTER PLOT of TAREGET data**"
      ]
    },
    {
      "cell_type": "code",
      "metadata": {
        "id": "m1qYaPd9bYrR",
        "colab_type": "code",
        "outputId": "518bb5e7-8b95-4a66-ee74-52e2575a166e",
        "colab": {
          "base_uri": "https://localhost:8080/",
          "height": 313
        }
      },
      "source": [
        "print(\"FEMALE: \",len(df[df['target']==0])) #female = 0\n",
        "print(\"MALE: \",len(df[df['target']==1])) # male =1 \n",
        "plt.scatter(x=df.age[df.target==1], y=df.thalach[(df.target==1)], c=\"green\")\n",
        "plt.scatter(x=df.age[df.target==0], y=df.thalach[(df.target==0)])\n",
        "plt.legend([\"Disease\", \"Not Disease\"])\n",
        "plt.xlabel(\"Age\")\n",
        "plt.ylabel(\"Maximum Heart Rate\")\n",
        "plt.show()"
      ],
      "execution_count": 17,
      "outputs": [
        {
          "output_type": "stream",
          "text": [
            "FEMALE:  138\n",
            "MALE:  165\n"
          ],
          "name": "stdout"
        },
        {
          "output_type": "display_data",
          "data": {
            "image/png": "[encoded data removed]",
            "text/plain": [
              "<Figure size 432x288 with 1 Axes>"
            ]
          },
          "metadata": {
            "tags": []
          }
        }
      ]
    },
    {
      "cell_type": "markdown",
      "metadata": {
        "id": "Mv8mkbIR6-jy",
        "colab_type": "text"
      },
      "source": [
        "As you can see we have more cases of Males as compare to Females in our dataset"
      ]
    },
    {
      "cell_type": "markdown",
      "metadata": {
        "id": "u1BswpVgeBZ4",
        "colab_type": "text"
      },
      "source": [
        "**CORELATION IN DATA**"
      ]
    },
    {
      "cell_type": "markdown",
      "metadata": {
        "id": "0_NVNfq_7M5D",
        "colab_type": "text"
      },
      "source": [
        "Put in plain terms, correlation is a measure of how strongly one variable depends on another.\n",
        "\n",
        "Correlation is very important in the field of Psychology and Education as a measure of relationship between test scores and other measures of performance. With the help of correlation, it is possible to have a correct idea of the working capacity of a person."
      ]
    },
    {
      "cell_type": "code",
      "metadata": {
        "id": "4dGXPQPSg757",
        "colab_type": "code",
        "outputId": "0400229a-3d36-4281-9008-2a123579c626",
        "colab": {
          "base_uri": "https://localhost:8080/",
          "height": 535
        }
      },
      "source": [
        "plt.figure(figsize=(10,8))\n",
        "sns.heatmap(df.corr(),annot=True,cmap='YlGnBu',fmt='.2f',linewidths=2)\n",
        "#No much of correlation"
      ],
      "execution_count": 18,
      "outputs": [
        {
          "output_type": "execute_result",
          "data": {
            "text/plain": [
              "<matplotlib.axes._subplots.AxesSubplot at 0x7fdf8a2ad5c0>"
            ]
          },
          "metadata": {
            "tags": []
          },
          "execution_count": 18
        },
        {
          "output_type": "display_data",
          "data": {
            "image/png": "[encoded data removed]",
            "text/plain": [
              "<Figure size 720x576 with 2 Axes>"
            ]
          },
          "metadata": {
            "tags": []
          }
        }
      ]
    },
    {
      "cell_type": "code",
      "metadata": {
        "id": "R8pMxEVfhqrN",
        "colab_type": "code",
        "outputId": "95cd352b-bbe6-42bb-86d3-20106bf4adfc",
        "colab": {
          "base_uri": "https://localhost:8080/",
          "height": 296
        }
      },
      "source": [
        "sns.countplot(x='ca',data=df,hue='target',palette='husl',linewidth=5) # using countplot\n"
      ],
      "execution_count": 19,
      "outputs": [
        {
          "output_type": "execute_result",
          "data": {
            "text/plain": [
              "<matplotlib.axes._subplots.AxesSubplot at 0x7fdf06e05f28>"
            ]
          },
          "metadata": {
            "tags": []
          },
          "execution_count": 19
        },
        {
          "output_type": "display_data",
          "data": {
            "image/png": "[encoded data removed]",
            "text/plain": [
              "<Figure size 432x288 with 1 Axes>"
            ]
          },
          "metadata": {
            "tags": []
          }
        }
      ]
    },
    {
      "cell_type": "markdown",
      "metadata": {
        "id": "zcWHvLQM8Jg6",
        "colab_type": "text"
      },
      "source": [
        "Conc: People with 'ca' as 0 have highest chance of heart disease"
      ]
    },
    {
      "cell_type": "markdown",
      "metadata": {
        "id": "HK9fkGpuirnA",
        "colab_type": "text"
      },
      "source": [
        "**Plotting the Rest Blood Pressure against age and comparison between sex**"
      ]
    },
    {
      "cell_type": "code",
      "metadata": {
        "id": "aiKAXWCeisAK",
        "colab_type": "code",
        "outputId": "211ff121-0a8c-4164-dfcc-9ae44f817ce2",
        "colab": {
          "base_uri": "https://localhost:8080/",
          "height": 386
        }
      },
      "source": [
        "sns.lmplot(x='age', y='trestbps', data=df, hue='sex', palette='muted')\n",
        "plt.show()\n",
        "print('Correlation Coefficient:{}'.format(np.corrcoef(df.age, df.trestbps)[0,1]))"
      ],
      "execution_count": 20,
      "outputs": [
        {
          "output_type": "display_data",
          "data": {
            "image/png": "[encoded data removed]",
            "text/plain": [
              "<Figure size 402.375x360 with 1 Axes>"
            ]
          },
          "metadata": {
            "tags": []
          }
        },
        {
          "output_type": "stream",
          "text": [
            "Correlation Coefficient:0.2793509065612883\n"
          ],
          "name": "stdout"
        }
      ]
    },
    {
      "cell_type": "markdown",
      "metadata": {
        "id": "4xs92nVYpM-k",
        "colab_type": "text"
      },
      "source": [
        "There is a positive correlation between age and rest blood pressure. The Females tend to have slightly higher chance of high blood pressure than males post the age of 50"
      ]
    },
    {
      "cell_type": "markdown",
      "metadata": {
        "id": "QIxI19jlguEr",
        "colab_type": "text"
      },
      "source": [
        "##TRAIN MODEL"
      ]
    },
    {
      "cell_type": "code",
      "metadata": {
        "id": "-qoHO1_8ozis",
        "colab_type": "code",
        "outputId": "c3433fb2-7f8c-44fc-a606-77c80e71dd4e",
        "colab": {
          "base_uri": "https://localhost:8080/",
          "height": 85
        }
      },
      "source": [
        "# NOW lets build ML model\n",
        "#At first we take our matix of features and target variable\n",
        "\n",
        "# At this moment we have a dataframe that contains all of the heart.csv data. However we need to\n",
        "# Separate them to [X, Y]. Where our target labels are 'Y', and 'X' is our training data.\n",
        "X = df.drop(['target'],1)\n",
        "Y= df['target']\n",
        "\n",
        "# Now split to train/test with 80% training data, and 20% test data.\n",
        "X_train, X_test, Y_train, Y_test = train_test_split(X, Y, test_size=0.2, random_state=42)\n",
        "\n",
        "# Check dimensions of both sets.\n",
        "print(\"Train Features Size:\", X_train.shape)\n",
        "print(\"Test Features Size:\", X_test.shape)\n",
        "print(\"Train Labels Size:\", Y_train.shape)\n",
        "print(\"Test Labels Size:\", Y_test.shape)\n"
      ],
      "execution_count": 21,
      "outputs": [
        {
          "output_type": "stream",
          "text": [
            "Train Features Size: (242, 13)\n",
            "Test Features Size: (61, 13)\n",
            "Train Labels Size: (242,)\n",
            "Test Labels Size: (61,)\n"
          ],
          "name": "stdout"
        }
      ]
    },
    {
      "cell_type": "markdown",
      "metadata": {
        "id": "wc1jGN8XQ8YF",
        "colab_type": "text"
      },
      "source": [
        "# **Feature scaling**"
      ]
    },
    {
      "cell_type": "markdown",
      "metadata": {
        "id": "zcpZOC2BShov",
        "colab_type": "text"
      },
      "source": [
        "The StandardScaler assumes your data is normally distributed within each feature and will scale them such that the distribution is now centred around 0, with a standard deviation of 1.\n",
        "\n",
        "The mean and standard deviation are calculated for the feature and then the feature is scaled based on:\n",
        "\n",
        "xi–mean(x)stdev(x) If data is not normally distributed, this is not the best scaler to use."
      ]
    },
    {
      "cell_type": "code",
      "metadata": {
        "id": "GyqA08ITSh60",
        "colab_type": "code",
        "colab": {}
      },
      "source": [
        "#Feature scaling\n",
        "from sklearn.preprocessing import StandardScaler\n",
        "sc_x = StandardScaler()\n",
        "x_train = sc_x.fit_transform(X_train)\n",
        "x_test = sc_x.transform(X_test)"
      ],
      "execution_count": 0,
      "outputs": []
    },
    {
      "cell_type": "markdown",
      "metadata": {
        "id": "dwRHe-3LS-Uw",
        "colab_type": "text"
      },
      "source": [
        "# **Neural Network Model**\n",
        "\n",
        "Neural Network Model\n",
        "\n",
        "Lets create a function that we can call later that builds our Neural Network model, and takes in the learning rate as a parameter. The architecture of the Neural Network that we're going to implement is detailed in the below illustration.\n",
        "\n",
        "\n",
        "\n"
      ]
    },
    {
      "cell_type": "markdown",
      "metadata": {
        "id": "Q4Go3RtQXVS-",
        "colab_type": "text"
      },
      "source": [
        "![alt text](https://drive.google.com/uc?id=1UBe6dxQgjDANE87RZMtxtONNdpISTXEC)\n",
        "\n"
      ]
    },
    {
      "cell_type": "markdown",
      "metadata": {
        "id": "McBo0l3aXuv7",
        "colab_type": "text"
      },
      "source": [
        "In our model, we use Adam (Adaptive Momentum) as our optimization algorithm, and set our metrics to accuracy. Furthermore, I have used the loss function to be sparse_categorical_crossentropy because our traget labels are integers and not one hot encoded.\n",
        "\n"
      ]
    },
    {
      "cell_type": "code",
      "metadata": {
        "id": "YunztUqLXiQk",
        "colab_type": "code",
        "colab": {}
      },
      "source": [
        "# Define a Neural Network Model\n",
        "#A Dense layer feeds all outputs from the previous layer to all its neurons,\n",
        "#each neuron providing one output to the next layer. \n",
        "#It's the most basic layer in neural networks, Let's suppose a Dense(10) has ten neurons.\n",
        "def NN_model(learning_rate):\n",
        "    model = Sequential() #neural network using the Sequential model API\n",
        "    model.add(Dense(32, input_dim=13, kernel_initializer='normal', activation='relu'))\n",
        "    model.add(Dense(16, kernel_initializer='normal', activation='relu'))\n",
        "    model.add(Dense(2, activation='softmax'))\n",
        "    Adam(lr=learning_rate)\n",
        "    model.compile(loss='sparse_categorical_crossentropy', optimizer='Adam', metrics=['accuracy'])\n",
        "    return model"
      ],
      "execution_count": 0,
      "outputs": []
    },
    {
      "cell_type": "markdown",
      "metadata": {
        "id": "SsseDzTPX3SM",
        "colab_type": "text"
      },
      "source": [
        "Now lets build the NN-model and start training. I chose learning_rate=0.01, epochs=100, and batch_size=16.\n",
        "\n",
        "Training the model for 100 epochs, seems to be pretty fine in order to avoid overfitting. I already performed training with 1000 epochs and around 100 epochs was the reasonable number of epochs for early stopping.\n",
        "\n",
        "Lets take a look at our model summary."
      ]
    },
    {
      "cell_type": "code",
      "metadata": {
        "id": "qMW9TRXaX0nv",
        "colab_type": "code",
        "outputId": "15a27c09-db70-49b5-ba94-282f49ef98fe",
        "colab": {
          "base_uri": "https://localhost:8080/",
          "height": 272
        }
      },
      "source": [
        "# Build a NN-model, and start training\n",
        "learning_rate = 0.01\n",
        "model = NN_model(learning_rate)\n",
        "print(model.summary())  # Summary of neural network"
      ],
      "execution_count": 25,
      "outputs": [
        {
          "output_type": "stream",
          "text": [
            "Model: \"sequential_2\"\n",
            "_________________________________________________________________\n",
            "Layer (type)                 Output Shape              Param #   \n",
            "=================================================================\n",
            "dense_6 (Dense)              (None, 32)                448       \n",
            "_________________________________________________________________\n",
            "dense_7 (Dense)              (None, 16)                528       \n",
            "_________________________________________________________________\n",
            "dense_8 (Dense)              (None, 2)                 34        \n",
            "=================================================================\n",
            "Total params: 1,010\n",
            "Trainable params: 1,010\n",
            "Non-trainable params: 0\n",
            "_________________________________________________________________\n",
            "None\n"
          ],
          "name": "stdout"
        }
      ]
    },
    {
      "cell_type": "markdown",
      "metadata": {
        "id": "dqxs-RGhYmy0",
        "colab_type": "text"
      },
      "source": [
        "**Now we train our model**"
      ]
    },
    {
      "cell_type": "markdown",
      "metadata": {
        "id": "ZrEKxy3qwJSs",
        "colab_type": "text"
      },
      "source": [
        "history = model.fit(X_train, Y_train, validation_data=(X_test, Y_test), epochs=50, batch_size=16, verbose=2)"
      ]
    },
    {
      "cell_type": "code",
      "metadata": {
        "id": "wpzh2d6WwOlv",
        "colab_type": "code",
        "outputId": "1b197985-5c67-41f1-9acb-4f2961f8606a",
        "colab": {
          "base_uri": "https://localhost:8080/",
          "height": 1000
        }
      },
      "source": [
        "history = model.fit(X_train, Y_train, validation_data=(X_test, Y_test), epochs=110, batch_size=16, verbose=2)"
      ],
      "execution_count": 26,
      "outputs": [
        {
          "output_type": "stream",
          "text": [
            "Epoch 1/110\n",
            "16/16 - 0s - loss: 0.7101 - accuracy: 0.5165 - val_loss: 0.6595 - val_accuracy: 0.6557\n",
            "Epoch 2/110\n",
            "16/16 - 0s - loss: 0.6572 - accuracy: 0.5909 - val_loss: 0.6734 - val_accuracy: 0.5574\n",
            "Epoch 3/110\n",
            "16/16 - 0s - loss: 0.6394 - accuracy: 0.6198 - val_loss: 0.6247 - val_accuracy: 0.5902\n",
            "Epoch 4/110\n",
            "16/16 - 0s - loss: 0.6465 - accuracy: 0.6198 - val_loss: 0.5959 - val_accuracy: 0.7213\n",
            "Epoch 5/110\n",
            "16/16 - 0s - loss: 0.6159 - accuracy: 0.6116 - val_loss: 0.5645 - val_accuracy: 0.7377\n",
            "Epoch 6/110\n",
            "16/16 - 0s - loss: 0.6132 - accuracy: 0.6777 - val_loss: 0.5413 - val_accuracy: 0.7705\n",
            "Epoch 7/110\n",
            "16/16 - 0s - loss: 0.5932 - accuracy: 0.6653 - val_loss: 0.5320 - val_accuracy: 0.7377\n",
            "Epoch 8/110\n",
            "16/16 - 0s - loss: 0.5522 - accuracy: 0.7107 - val_loss: 0.5240 - val_accuracy: 0.7705\n",
            "Epoch 9/110\n",
            "16/16 - 0s - loss: 0.5902 - accuracy: 0.7149 - val_loss: 0.5944 - val_accuracy: 0.6721\n",
            "Epoch 10/110\n",
            "16/16 - 0s - loss: 0.5866 - accuracy: 0.6570 - val_loss: 0.5102 - val_accuracy: 0.7705\n",
            "Epoch 11/110\n",
            "16/16 - 0s - loss: 0.6020 - accuracy: 0.7025 - val_loss: 0.5766 - val_accuracy: 0.6557\n",
            "Epoch 12/110\n",
            "16/16 - 0s - loss: 0.5943 - accuracy: 0.6694 - val_loss: 0.4997 - val_accuracy: 0.8033\n",
            "Epoch 13/110\n",
            "16/16 - 0s - loss: 0.5473 - accuracy: 0.7149 - val_loss: 0.5260 - val_accuracy: 0.7541\n",
            "Epoch 14/110\n",
            "16/16 - 0s - loss: 0.5739 - accuracy: 0.6818 - val_loss: 0.4874 - val_accuracy: 0.8197\n",
            "Epoch 15/110\n",
            "16/16 - 0s - loss: 0.5541 - accuracy: 0.7025 - val_loss: 0.4806 - val_accuracy: 0.7869\n",
            "Epoch 16/110\n",
            "16/16 - 0s - loss: 0.5267 - accuracy: 0.7149 - val_loss: 0.4775 - val_accuracy: 0.7869\n",
            "Epoch 17/110\n",
            "16/16 - 0s - loss: 0.5410 - accuracy: 0.6983 - val_loss: 0.4645 - val_accuracy: 0.8033\n",
            "Epoch 18/110\n",
            "16/16 - 0s - loss: 0.5645 - accuracy: 0.6983 - val_loss: 0.4658 - val_accuracy: 0.8361\n",
            "Epoch 19/110\n",
            "16/16 - 0s - loss: 0.6688 - accuracy: 0.6364 - val_loss: 0.4707 - val_accuracy: 0.8033\n",
            "Epoch 20/110\n",
            "16/16 - 0s - loss: 0.6108 - accuracy: 0.7273 - val_loss: 0.4971 - val_accuracy: 0.7869\n",
            "Epoch 21/110\n",
            "16/16 - 0s - loss: 0.5656 - accuracy: 0.6942 - val_loss: 0.4673 - val_accuracy: 0.8197\n",
            "Epoch 22/110\n",
            "16/16 - 0s - loss: 0.5605 - accuracy: 0.6942 - val_loss: 0.4794 - val_accuracy: 0.7869\n",
            "Epoch 23/110\n",
            "16/16 - 0s - loss: 0.5205 - accuracy: 0.7273 - val_loss: 0.4590 - val_accuracy: 0.8033\n",
            "Epoch 24/110\n",
            "16/16 - 0s - loss: 0.5428 - accuracy: 0.7355 - val_loss: 0.4541 - val_accuracy: 0.8197\n",
            "Epoch 25/110\n",
            "16/16 - 0s - loss: 0.5553 - accuracy: 0.7107 - val_loss: 0.4950 - val_accuracy: 0.7705\n",
            "Epoch 26/110\n",
            "16/16 - 0s - loss: 0.4922 - accuracy: 0.7562 - val_loss: 0.4291 - val_accuracy: 0.8361\n",
            "Epoch 27/110\n",
            "16/16 - 0s - loss: 0.5051 - accuracy: 0.7479 - val_loss: 0.4694 - val_accuracy: 0.7869\n",
            "Epoch 28/110\n",
            "16/16 - 0s - loss: 0.5469 - accuracy: 0.7355 - val_loss: 0.4208 - val_accuracy: 0.8525\n",
            "Epoch 29/110\n",
            "16/16 - 0s - loss: 0.4925 - accuracy: 0.7645 - val_loss: 0.4224 - val_accuracy: 0.8197\n",
            "Epoch 30/110\n",
            "16/16 - 0s - loss: 0.4718 - accuracy: 0.7603 - val_loss: 0.4168 - val_accuracy: 0.8361\n",
            "Epoch 31/110\n",
            "16/16 - 0s - loss: 0.4736 - accuracy: 0.7355 - val_loss: 0.4620 - val_accuracy: 0.7869\n",
            "Epoch 32/110\n",
            "16/16 - 0s - loss: 0.4591 - accuracy: 0.8017 - val_loss: 0.4153 - val_accuracy: 0.8361\n",
            "Epoch 33/110\n",
            "16/16 - 0s - loss: 0.5102 - accuracy: 0.7562 - val_loss: 0.3940 - val_accuracy: 0.8525\n",
            "Epoch 34/110\n",
            "16/16 - 0s - loss: 0.4947 - accuracy: 0.7273 - val_loss: 0.4003 - val_accuracy: 0.8525\n",
            "Epoch 35/110\n",
            "16/16 - 0s - loss: 0.4699 - accuracy: 0.7603 - val_loss: 0.3850 - val_accuracy: 0.8361\n",
            "Epoch 36/110\n",
            "16/16 - 0s - loss: 0.4630 - accuracy: 0.7479 - val_loss: 0.3931 - val_accuracy: 0.8525\n",
            "Epoch 37/110\n",
            "16/16 - 0s - loss: 0.4774 - accuracy: 0.7686 - val_loss: 0.3933 - val_accuracy: 0.8525\n",
            "Epoch 38/110\n",
            "16/16 - 0s - loss: 0.4424 - accuracy: 0.7975 - val_loss: 0.3925 - val_accuracy: 0.8689\n",
            "Epoch 39/110\n",
            "16/16 - 0s - loss: 0.4461 - accuracy: 0.7810 - val_loss: 0.3659 - val_accuracy: 0.8525\n",
            "Epoch 40/110\n",
            "16/16 - 0s - loss: 0.4171 - accuracy: 0.7810 - val_loss: 0.3843 - val_accuracy: 0.8525\n",
            "Epoch 41/110\n",
            "16/16 - 0s - loss: 0.4271 - accuracy: 0.7975 - val_loss: 0.3586 - val_accuracy: 0.8525\n",
            "Epoch 42/110\n",
            "16/16 - 0s - loss: 0.4726 - accuracy: 0.8347 - val_loss: 0.3599 - val_accuracy: 0.8689\n",
            "Epoch 43/110\n",
            "16/16 - 0s - loss: 0.4257 - accuracy: 0.7686 - val_loss: 0.3753 - val_accuracy: 0.8525\n",
            "Epoch 44/110\n",
            "16/16 - 0s - loss: 0.4497 - accuracy: 0.8058 - val_loss: 0.3577 - val_accuracy: 0.8689\n",
            "Epoch 45/110\n",
            "16/16 - 0s - loss: 0.4470 - accuracy: 0.8058 - val_loss: 0.3546 - val_accuracy: 0.8689\n",
            "Epoch 46/110\n",
            "16/16 - 0s - loss: 0.4325 - accuracy: 0.7562 - val_loss: 0.3479 - val_accuracy: 0.8689\n",
            "Epoch 47/110\n",
            "16/16 - 0s - loss: 0.4532 - accuracy: 0.8182 - val_loss: 0.3612 - val_accuracy: 0.8689\n",
            "Epoch 48/110\n",
            "16/16 - 0s - loss: 0.5415 - accuracy: 0.7727 - val_loss: 0.3684 - val_accuracy: 0.8689\n",
            "Epoch 49/110\n",
            "16/16 - 0s - loss: 0.3976 - accuracy: 0.8347 - val_loss: 0.3481 - val_accuracy: 0.8689\n",
            "Epoch 50/110\n",
            "16/16 - 0s - loss: 0.4319 - accuracy: 0.8182 - val_loss: 0.4011 - val_accuracy: 0.8033\n",
            "Epoch 51/110\n",
            "16/16 - 0s - loss: 0.4437 - accuracy: 0.8099 - val_loss: 0.3471 - val_accuracy: 0.8852\n",
            "Epoch 52/110\n",
            "16/16 - 0s - loss: 0.4258 - accuracy: 0.8430 - val_loss: 0.3462 - val_accuracy: 0.8852\n",
            "Epoch 53/110\n",
            "16/16 - 0s - loss: 0.4041 - accuracy: 0.7934 - val_loss: 0.3636 - val_accuracy: 0.8852\n",
            "Epoch 54/110\n",
            "16/16 - 0s - loss: 0.4006 - accuracy: 0.8430 - val_loss: 0.3419 - val_accuracy: 0.8852\n",
            "Epoch 55/110\n",
            "16/16 - 0s - loss: 0.3801 - accuracy: 0.8306 - val_loss: 0.3906 - val_accuracy: 0.8197\n",
            "Epoch 56/110\n",
            "16/16 - 0s - loss: 0.4047 - accuracy: 0.8388 - val_loss: 0.3488 - val_accuracy: 0.8852\n",
            "Epoch 57/110\n",
            "16/16 - 0s - loss: 0.3651 - accuracy: 0.8471 - val_loss: 0.3375 - val_accuracy: 0.8852\n",
            "Epoch 58/110\n",
            "16/16 - 0s - loss: 0.5462 - accuracy: 0.8264 - val_loss: 0.3519 - val_accuracy: 0.8852\n",
            "Epoch 59/110\n",
            "16/16 - 0s - loss: 0.5420 - accuracy: 0.6942 - val_loss: 0.3454 - val_accuracy: 0.8852\n",
            "Epoch 60/110\n",
            "16/16 - 0s - loss: 0.4424 - accuracy: 0.8099 - val_loss: 0.3399 - val_accuracy: 0.8852\n",
            "Epoch 61/110\n",
            "16/16 - 0s - loss: 0.4119 - accuracy: 0.8140 - val_loss: 0.3373 - val_accuracy: 0.8852\n",
            "Epoch 62/110\n",
            "16/16 - 0s - loss: 0.4095 - accuracy: 0.8430 - val_loss: 0.3439 - val_accuracy: 0.8852\n",
            "Epoch 63/110\n",
            "16/16 - 0s - loss: 0.3952 - accuracy: 0.8595 - val_loss: 0.4396 - val_accuracy: 0.7705\n",
            "Epoch 64/110\n",
            "16/16 - 0s - loss: 0.4332 - accuracy: 0.7851 - val_loss: 0.3536 - val_accuracy: 0.8852\n",
            "Epoch 65/110\n",
            "16/16 - 0s - loss: 0.4065 - accuracy: 0.8058 - val_loss: 0.3449 - val_accuracy: 0.8689\n",
            "Epoch 66/110\n",
            "16/16 - 0s - loss: 0.4005 - accuracy: 0.8182 - val_loss: 0.3603 - val_accuracy: 0.8689\n",
            "Epoch 67/110\n",
            "16/16 - 0s - loss: 0.3821 - accuracy: 0.8347 - val_loss: 0.3354 - val_accuracy: 0.8852\n",
            "Epoch 68/110\n",
            "16/16 - 0s - loss: 0.3773 - accuracy: 0.8388 - val_loss: 0.3450 - val_accuracy: 0.8852\n",
            "Epoch 69/110\n",
            "16/16 - 0s - loss: 0.3628 - accuracy: 0.8430 - val_loss: 0.4932 - val_accuracy: 0.7377\n",
            "Epoch 70/110\n",
            "16/16 - 0s - loss: 0.3868 - accuracy: 0.8140 - val_loss: 0.3585 - val_accuracy: 0.8852\n",
            "Epoch 71/110\n",
            "16/16 - 0s - loss: 0.4498 - accuracy: 0.8471 - val_loss: 0.3691 - val_accuracy: 0.8689\n",
            "Epoch 72/110\n",
            "16/16 - 0s - loss: 0.3872 - accuracy: 0.8223 - val_loss: 0.3405 - val_accuracy: 0.8852\n",
            "Epoch 73/110\n",
            "16/16 - 0s - loss: 0.3617 - accuracy: 0.8347 - val_loss: 0.3521 - val_accuracy: 0.8689\n",
            "Epoch 74/110\n",
            "16/16 - 0s - loss: 0.4491 - accuracy: 0.8347 - val_loss: 0.3514 - val_accuracy: 0.8689\n",
            "Epoch 75/110\n",
            "16/16 - 0s - loss: 0.4773 - accuracy: 0.7645 - val_loss: 0.3420 - val_accuracy: 0.8852\n",
            "Epoch 76/110\n",
            "16/16 - 0s - loss: 0.4179 - accuracy: 0.7851 - val_loss: 0.3687 - val_accuracy: 0.8689\n",
            "Epoch 77/110\n",
            "16/16 - 0s - loss: 0.4473 - accuracy: 0.7727 - val_loss: 0.3398 - val_accuracy: 0.8689\n",
            "Epoch 78/110\n",
            "16/16 - 0s - loss: 0.4013 - accuracy: 0.8182 - val_loss: 0.3323 - val_accuracy: 0.8689\n",
            "Epoch 79/110\n",
            "16/16 - 0s - loss: 0.4013 - accuracy: 0.7810 - val_loss: 0.3323 - val_accuracy: 0.8689\n",
            "Epoch 80/110\n",
            "16/16 - 0s - loss: 0.4290 - accuracy: 0.7769 - val_loss: 0.3545 - val_accuracy: 0.8852\n",
            "Epoch 81/110\n",
            "16/16 - 0s - loss: 0.3892 - accuracy: 0.8636 - val_loss: 0.3732 - val_accuracy: 0.8689\n",
            "Epoch 82/110\n",
            "16/16 - 0s - loss: 0.4135 - accuracy: 0.7769 - val_loss: 0.3489 - val_accuracy: 0.8689\n",
            "Epoch 83/110\n",
            "16/16 - 0s - loss: 0.3775 - accuracy: 0.8512 - val_loss: 0.3677 - val_accuracy: 0.8689\n",
            "Epoch 84/110\n",
            "16/16 - 0s - loss: 0.3618 - accuracy: 0.8347 - val_loss: 0.3328 - val_accuracy: 0.8689\n",
            "Epoch 85/110\n",
            "16/16 - 0s - loss: 0.3604 - accuracy: 0.8264 - val_loss: 0.3442 - val_accuracy: 0.8689\n",
            "Epoch 86/110\n",
            "16/16 - 0s - loss: 0.3912 - accuracy: 0.8388 - val_loss: 0.3885 - val_accuracy: 0.8361\n",
            "Epoch 87/110\n",
            "16/16 - 0s - loss: 0.3594 - accuracy: 0.8306 - val_loss: 0.3350 - val_accuracy: 0.8852\n",
            "Epoch 88/110\n",
            "16/16 - 0s - loss: 0.3843 - accuracy: 0.8140 - val_loss: 0.3356 - val_accuracy: 0.8689\n",
            "Epoch 89/110\n",
            "16/16 - 0s - loss: 0.3721 - accuracy: 0.8182 - val_loss: 0.4005 - val_accuracy: 0.8689\n",
            "Epoch 90/110\n",
            "16/16 - 0s - loss: 0.4774 - accuracy: 0.7851 - val_loss: 0.3404 - val_accuracy: 0.8852\n",
            "Epoch 91/110\n",
            "16/16 - 0s - loss: 0.3747 - accuracy: 0.8430 - val_loss: 0.4169 - val_accuracy: 0.8197\n",
            "Epoch 92/110\n",
            "16/16 - 0s - loss: 0.3909 - accuracy: 0.8347 - val_loss: 0.3756 - val_accuracy: 0.8525\n",
            "Epoch 93/110\n",
            "16/16 - 0s - loss: 0.3565 - accuracy: 0.8347 - val_loss: 0.3388 - val_accuracy: 0.8852\n",
            "Epoch 94/110\n",
            "16/16 - 0s - loss: 0.3731 - accuracy: 0.8512 - val_loss: 0.4296 - val_accuracy: 0.7705\n",
            "Epoch 95/110\n",
            "16/16 - 0s - loss: 0.4471 - accuracy: 0.7851 - val_loss: 0.3666 - val_accuracy: 0.8525\n",
            "Epoch 96/110\n",
            "16/16 - 0s - loss: 0.3985 - accuracy: 0.8017 - val_loss: 0.4042 - val_accuracy: 0.8033\n",
            "Epoch 97/110\n",
            "16/16 - 0s - loss: 0.3695 - accuracy: 0.8388 - val_loss: 0.3383 - val_accuracy: 0.8852\n",
            "Epoch 98/110\n",
            "16/16 - 0s - loss: 0.3608 - accuracy: 0.8719 - val_loss: 0.3604 - val_accuracy: 0.8525\n",
            "Epoch 99/110\n",
            "16/16 - 0s - loss: 0.3659 - accuracy: 0.8512 - val_loss: 0.3464 - val_accuracy: 0.8689\n",
            "Epoch 100/110\n",
            "16/16 - 0s - loss: 0.3552 - accuracy: 0.8388 - val_loss: 0.3437 - val_accuracy: 0.8852\n",
            "Epoch 101/110\n",
            "16/16 - 0s - loss: 0.3935 - accuracy: 0.7851 - val_loss: 0.3726 - val_accuracy: 0.8525\n",
            "Epoch 102/110\n",
            "16/16 - 0s - loss: 0.4233 - accuracy: 0.8388 - val_loss: 0.3665 - val_accuracy: 0.8525\n",
            "Epoch 103/110\n",
            "16/16 - 0s - loss: 0.3969 - accuracy: 0.7975 - val_loss: 0.3488 - val_accuracy: 0.8689\n",
            "Epoch 104/110\n",
            "16/16 - 0s - loss: 0.3998 - accuracy: 0.8636 - val_loss: 0.3560 - val_accuracy: 0.8525\n",
            "Epoch 105/110\n",
            "16/16 - 0s - loss: 0.4388 - accuracy: 0.7769 - val_loss: 0.3340 - val_accuracy: 0.8852\n",
            "Epoch 106/110\n",
            "16/16 - 0s - loss: 0.3822 - accuracy: 0.8306 - val_loss: 0.3465 - val_accuracy: 0.8852\n",
            "Epoch 107/110\n",
            "16/16 - 0s - loss: 0.4111 - accuracy: 0.8430 - val_loss: 0.3589 - val_accuracy: 0.8525\n",
            "Epoch 108/110\n",
            "16/16 - 0s - loss: 0.4449 - accuracy: 0.7893 - val_loss: 0.3323 - val_accuracy: 0.8852\n",
            "Epoch 109/110\n",
            "16/16 - 0s - loss: 0.3635 - accuracy: 0.8471 - val_loss: 0.3451 - val_accuracy: 0.8852\n",
            "Epoch 110/110\n",
            "16/16 - 0s - loss: 0.3761 - accuracy: 0.8306 - val_loss: 0.3326 - val_accuracy: 0.8852\n"
          ],
          "name": "stdout"
        }
      ]
    },
    {
      "cell_type": "code",
      "metadata": {
        "id": "LXrnPv_oTWTz",
        "colab_type": "code",
        "outputId": "2ec9074a-e46f-4f2d-9ddb-8089ec0a26b3",
        "colab": {
          "base_uri": "https://localhost:8080/",
          "height": 187
        }
      },
      "source": [
        "#Now, we predict our model \n",
        "comp_accuracies=[] # initializing one list which stores the accuracies of all the model in this project\n",
        "predictions = np.argmax(model.predict(X_test),axis=1) \n",
        "#argmax is a function which gives the index of the greatest number in the given row or column and the row or column \n",
        "#can be decided using axis attribute of argmax funcion.\n",
        "model_accuracy = accuracy_score(Y_test, predictions)*100 # calculating accuracy score\n",
        "comp_accuracies.append(model_accuracy)\n",
        "print(\"Model Accracy:\", model_accuracy,\"%\")\n",
        "#confusion matrix\n",
        "# precision(positive predictive value)\n",
        "# Precision= TP/(TP+FP)\n",
        "#recall kown as sensitivity or true positive rate \n",
        "#recall = TP/(TP+FN)\n",
        "# f1-score, it is combination of precision and recall\n",
        "# f1-score= 2 * ((precision *recall)/(precision+recall))\n",
        "print(classification_report(Y_test, predictions)) # Classification Report"
      ],
      "execution_count": 27,
      "outputs": [
        {
          "output_type": "stream",
          "text": [
            "Model Accracy: 88.52459016393442 %\n",
            "              precision    recall  f1-score   support\n",
            "\n",
            "           0       0.89      0.86      0.88        29\n",
            "           1       0.88      0.91      0.89        32\n",
            "\n",
            "    accuracy                           0.89        61\n",
            "   macro avg       0.89      0.88      0.88        61\n",
            "weighted avg       0.89      0.89      0.89        61\n",
            "\n"
          ],
          "name": "stdout"
        }
      ]
    },
    {
      "cell_type": "markdown",
      "metadata": {
        "id": "B2bZn9XvZUYx",
        "colab_type": "text"
      },
      "source": [
        "We get, an **ANN model accuracy** of around 89% and very \n",
        "\n",
        "\n",
        "\n",
        "similar  f1  score, we have a very good performing model that generalizes well to the test set."
      ]
    },
    {
      "cell_type": "markdown",
      "metadata": {
        "id": "_TCDnFDocOxl",
        "colab_type": "text"
      },
      "source": [
        "# **Logistic Regression**\n",
        "\n",
        "Logistic regression is a type of regression analysis in statistics used for prediction of outcome of a categorical dependent variable from a set of predictor or independent variables. In logistic regression the dependent variable is always binary. Logistic regression is mainly used to for prediction and also calculating the probability of success."
      ]
    },
    {
      "cell_type": "code",
      "metadata": {
        "id": "gvN3MPzwPmqG",
        "colab_type": "code",
        "outputId": "ebe55a5f-fa6f-4394-dece-c21fbae5f28e",
        "colab": {
          "base_uri": "https://localhost:8080/",
          "height": 153
        }
      },
      "source": [
        "import sklearn\n",
        "x_train,x_test,y_train,y_test=train_test_split(X,Y,test_size=.20,random_state=5)\n",
        "from sklearn.linear_model import LogisticRegression # importing logistic rgression model from \n",
        "logreg=LogisticRegression() # all parameters not specified are set to their defaults\n",
        "logreg.fit(x_train,y_train) #Model is learning the relationship between digits x_train and labels y_train\n",
        "y_pred=logreg.predict(x_test) #Predict labels for new data \n"
      ],
      "execution_count": 28,
      "outputs": [
        {
          "output_type": "stream",
          "text": [
            "/usr/local/lib/python3.6/dist-packages/sklearn/linear_model/_logistic.py:940: ConvergenceWarning: lbfgs failed to converge (status=1):\n",
            "STOP: TOTAL NO. of ITERATIONS REACHED LIMIT.\n",
            "\n",
            "Increase the number of iterations (max_iter) or scale the data as shown in:\n",
            "    https://scikit-learn.org/stable/modules/preprocessing.html\n",
            "Please also refer to the documentation for alternative solver options:\n",
            "    https://scikit-learn.org/stable/modules/linear_model.html#logistic-regression\n",
            "  extra_warning_msg=_LOGISTIC_SOLVER_CONVERGENCE_MSG)\n"
          ],
          "name": "stderr"
        }
      ]
    },
    {
      "cell_type": "code",
      "metadata": {
        "id": "pOrUgpZE2SS0",
        "colab_type": "code",
        "outputId": "536856d6-7905-4028-b916-65c23e18ba83",
        "colab": {
          "base_uri": "https://localhost:8080/",
          "height": 34
        }
      },
      "source": [
        "print(\"Logistic regression Accuracy score is:\",accuracy_score(y_test,y_pred))\n",
        "comp_accuracies.append(accuracy_score(y_test,y_pred))"
      ],
      "execution_count": 29,
      "outputs": [
        {
          "output_type": "stream",
          "text": [
            "Logistic regression Accuracy score is: 0.9180327868852459\n"
          ],
          "name": "stdout"
        }
      ]
    },
    {
      "cell_type": "markdown",
      "metadata": {
        "id": "_FWAYO1ooQk6",
        "colab_type": "text"
      },
      "source": [
        "**Accuracy of Logistic Regression Model is approx 92%**"
      ]
    },
    {
      "cell_type": "markdown",
      "metadata": {
        "id": "4rUk0NH5WyWe",
        "colab_type": "text"
      },
      "source": [
        "**Confusion Matrix**\n",
        "\n",
        "A confusion matrix is a table that is often used to describe the performance of a classification model (or “classifier”) on a set of test data for which the true values are known.\n",
        "\n",
        "The number of incorrect predictions for each class, organized by the class that was predicted.\n",
        "It also allows the visualization of the performance of an algorithm."
      ]
    },
    {
      "cell_type": "code",
      "metadata": {
        "id": "CRAATbhs2s4K",
        "colab_type": "code",
        "outputId": "086c22f8-f8bd-4b51-ae88-8b6f70b13a8d",
        "colab": {
          "base_uri": "https://localhost:8080/",
          "height": 337
        }
      },
      "source": [
        "from sklearn.metrics import confusion_matrix\n",
        "cm=confusion_matrix(y_test,y_pred)\n",
        "conf_matrix=pd.DataFrame(data=cm,columns=['Predicted:0','Predicted:1'],index=['Actual:0','Actual:1'])\n",
        "plt.figure(figsize = (8,5))\n",
        "sns.heatmap(conf_matrix, annot=True,fmt='d',cmap=\"YlGnBu\")\n",
        "#A heatmap is a two-dimensional graphical representation of data where the individual values \n",
        "#that are contained in a matrix are represented as colors. The seaborn python package allows \n",
        "#the creation of annotated heatmaps."
      ],
      "execution_count": 30,
      "outputs": [
        {
          "output_type": "execute_result",
          "data": {
            "text/plain": [
              "<matplotlib.axes._subplots.AxesSubplot at 0x7fdefa9fe940>"
            ]
          },
          "metadata": {
            "tags": []
          },
          "execution_count": 30
        },
        {
          "output_type": "display_data",
          "data": {
            "image/png": "[encoded data removed]",
            "text/plain": [
              "<Figure size 576x360 with 2 Axes>"
            ]
          },
          "metadata": {
            "tags": []
          }
        }
      ]
    },
    {
      "cell_type": "markdown",
      "metadata": {
        "id": "V8y8AzBn22vj",
        "colab_type": "text"
      },
      "source": [
        "The confusion matrix shows 27+29 = 56 correct predictions and 2+3= 5 incorrect ones.\n",
        "\n",
        "True Positives: 29\n",
        "\n",
        "True Negatives: 27\n",
        "\n",
        "False Positives: 3 (Type I error)\n",
        "\n",
        "False Negatives: 2 ( Type II error)"
      ]
    },
    {
      "cell_type": "markdown",
      "metadata": {
        "id": "Ednm5ohHogq6",
        "colab_type": "text"
      },
      "source": [
        "**Clasification  Report**\n",
        "\n",
        "A Classification report is used to measure the quality of predictions from a classification algorithm. How many predictions are True and how many are False. More specifically, True Positives, False Positives, True negatives and False Negatives are used to predict the metrics of a classification report"
      ]
    },
    {
      "cell_type": "code",
      "metadata": {
        "id": "37aCpIOvoa8q",
        "colab_type": "code",
        "outputId": "f898deec-72c1-4d2a-bd6d-53ff52f58d6f",
        "colab": {
          "base_uri": "https://localhost:8080/",
          "height": 221
        }
      },
      "source": [
        "#confusion matrix\n",
        "\n",
        "# precision(positive predictive value)\n",
        "# Precision= TP/(TP+FP)\n",
        "#recall kown as sensitivity or true positive rate \n",
        "#recall = TP/(TP+FN)\n",
        "# f1-score, it is combination of precision and recall\n",
        "# f1-score= 2 * ((precision *recall)/(precision+recall))\n",
        "from sklearn.metrics import classification_report,confusion_matrix\n",
        "\n",
        "print(confusion_matrix(y_test,y_pred))\n",
        "print(classification_report(y_test,y_pred))\n",
        "print(accuracy_score(y_test,y_pred))"
      ],
      "execution_count": 31,
      "outputs": [
        {
          "output_type": "stream",
          "text": [
            "[[27  3]\n",
            " [ 2 29]]\n",
            "              precision    recall  f1-score   support\n",
            "\n",
            "           0       0.93      0.90      0.92        30\n",
            "           1       0.91      0.94      0.92        31\n",
            "\n",
            "    accuracy                           0.92        61\n",
            "   macro avg       0.92      0.92      0.92        61\n",
            "weighted avg       0.92      0.92      0.92        61\n",
            "\n",
            "0.9180327868852459\n"
          ],
          "name": "stdout"
        }
      ]
    },
    {
      "cell_type": "markdown",
      "metadata": {
        "id": "sUc2d8dPtHZc",
        "colab_type": "text"
      },
      "source": [
        "The accuracy of Logistic regtression is 92%, till now in we have trained two models ANN and Logistic Regression, we got ANN best but we can imporove more by using Regularisation to introduce the penality: lesso (l1) and ridge(l2) to increase the accuracy of Logistic regression."
      ]
    },
    {
      "cell_type": "markdown",
      "metadata": {
        "id": "cS1yvEUTrtzN",
        "colab_type": "text"
      },
      "source": [
        "# **Now, we will apply 5 algorithms and predict their outputs...**"
      ]
    },
    {
      "cell_type": "markdown",
      "metadata": {
        "id": "uE8Tzk-RboAs",
        "colab_type": "text"
      },
      "source": [
        "**Decision Tree Classification** - Decision Trees are a type of Supervised Machine Learning (that is you explain what the input is and what the corresponding output is in the training data) where the data is continuously split according to a certain parameter. The tree can be explained by two entities, namely decision nodes and leaves.\n",
        "Decision tree builds classification or regression models in the form of a tree structure. It breaks down a data set into smaller and smaller subsets while at the same time an associated decision tree is incrementally developed. ... A decision node has two or more branches. Leaf node represents a classification or decision\n",
        "\n",
        "**Support Vector Classification** -  Support Vector Machine (SVM) could be a supervised binary classification algorithm. Given a collection of points of two types in the dataset, it makes dimensional hyperplane to separate those points into two groups this hyperplane could be a line dividing a plane into two parts wherein each class lay on either side. The points which positions are within the separating Hyperplane is termed Support Vectors. I've got implemented the minimal sequential optimization which breaks the issues in subproblems then solve it actually.\n",
        "\n",
        "**K-Neighbors Classification**- K-nearest neighbor is employed for both regression and classification problems and there's no training process for this algorithm, the whole data set is employed for predicting/classifying new data. When brand new information is given, to label a brand new point it's at the new point nearest to that and votes for it and whichever label is that the most voted that label is given to the new point.\n",
        "In implementation part Scikit learn library is available in which we can perfoem this and predict the output.\n",
        "\n",
        "**Random Forest Classification** - Random forest could be a tree-based classification algorithm. because the name indicates, the algorithm creates a forest with an outsized number of trees. it's an ensemble algorithm which mixes multiple algorithms. It creates a collection of decision trees from a random sample of the training set. It repeats the method with multiple random samples and makes a judgment supported majority voting. The Random forest algorithm is effective in handling missing values but it's at risk of overfitting. Appropriate parameter tuning will be applied to avoid overfitting.\n",
        "\n",
        "**Gausian Nave Bayes** - In Gaussian Naive Bayes, continuous values associated with each feature are assumed to be distributed according to a Gaussian distribution. A Gaussian distribution is also called Normal distribution.\n",
        "It is an algorithm having a Probabilistic Approach. It involves prior and posterior probability calculation of the classes in the dataset and the test data given a class respectively. Prior probabilities of all the classes are calculated using the same formula."
      ]
    },
    {
      "cell_type": "code",
      "metadata": {
        "id": "DSjrUe46xC5D",
        "colab_type": "code",
        "outputId": "298a0778-16aa-4d20-f434-19f224e1b668",
        "colab": {
          "base_uri": "https://localhost:8080/",
          "height": 102
        }
      },
      "source": [
        "#importimg all the algorithens library from sklearn\n",
        "\n",
        "from sklearn.tree import DecisionTreeClassifier\n",
        "from sklearn.ensemble import RandomForestClassifier\n",
        "from sklearn.neighbors import KNeighborsClassifier\n",
        "from sklearn.svm import SVC\n",
        "from sklearn.naive_bayes import GaussianNB\n",
        "from sklearn.metrics import accuracy_score\n",
        "\n",
        "\n",
        "classifiers=[['Decision Tree Classification :',DecisionTreeClassifier()],\n",
        "       ['Random Forest Classification :',RandomForestClassifier()],\n",
        "       ['K-Neighbors Classification :',KNeighborsClassifier()],\n",
        "       ['Support Vector Classification :',SVC()],\n",
        "       ['Gaussian Naive Bayes :',GaussianNB()]]\n",
        "cla_pred=[] #adding accuracies in the list\n",
        "acc=[] # list for, adding accuracies for the final result of visulisation\n",
        "for name,model in classifiers:\n",
        "    model=model\n",
        "    model.fit(X_train,Y_train) # we are fitting the data into the model with training dataset\n",
        "    predictions = model.predict(X_test) # now we are predicting with test datset\n",
        "    cla_pred.append(accuracy_score(Y_test,predictions)) # finding accuracy\n",
        "    print(name,accuracy_score(Y_test,predictions))\n",
        "    acc.append(accuracy_score(Y_test,predictions))"
      ],
      "execution_count": 32,
      "outputs": [
        {
          "output_type": "stream",
          "text": [
            "Decision Tree Classification : 0.8032786885245902\n",
            "Random Forest Classification : 0.8360655737704918\n",
            "K-Neighbors Classification : 0.6885245901639344\n",
            "Support Vector Classification : 0.7049180327868853\n",
            "Gaussian Naive Bayes : 0.8688524590163934\n"
          ],
          "name": "stdout"
        }
      ]
    },
    {
      "cell_type": "markdown",
      "metadata": {
        "id": "1Q0urx_J4xIY",
        "colab_type": "text"
      },
      "source": [
        "**Compare all the algorithems with their accuracies in bar plot**"
      ]
    },
    {
      "cell_type": "code",
      "metadata": {
        "id": "-Jy57xvW10JN",
        "colab_type": "code",
        "colab": {}
      },
      "source": [
        "accc={} # declaring one dictionary whic contains keys and values\n",
        "#Now, I am adding all the results in the accc dictionry\n",
        "accc['A-N Network']=comp_accuracies[0]\n",
        "accc['Logistic Regression']=comp_accuracies[1]*100\n",
        "accc['Deceason Tree']=acc[0]*100\n",
        "accc['Random Forest']=acc[1]*100\n",
        "accc['K-Neighbours']=acc[2]*100\n",
        "accc['Support Vector']=acc[3]*100\n",
        "accc['Gausian Nave Bayes']=acc[4]*100"
      ],
      "execution_count": 0,
      "outputs": []
    },
    {
      "cell_type": "code",
      "metadata": {
        "id": "OLAh_n5xyRHS",
        "colab_type": "code",
        "outputId": "95421452-e809-45e8-f998-097310f3463c",
        "colab": {
          "base_uri": "https://localhost:8080/",
          "height": 334
        }
      },
      "source": [
        "colors = [\"purple\", \"green\", \"orange\", \"magenta\",\"#CFC60E\",\"#0FBBAE\",\"red\"]\n",
        "sns.set_style(\"whitegrid\")\n",
        "plt.figure(figsize=(16,5))\n",
        "plt.yticks(np.arange(0,100,10))\n",
        "plt.ylabel(\"Accuracy %\")\n",
        "plt.xlabel(\"Algorithms\")\n",
        "sns.barplot(x=list(accc.keys()), y=list(accc.values()), palette=colors) #using bar plot\n",
        "plt.show()"
      ],
      "execution_count": 34,
      "outputs": [
        {
          "output_type": "display_data",
          "data": {
            "image/png": "[encoded data removed]",
            "text/plain": [
              "<Figure size 1152x360 with 1 Axes>"
            ]
          },
          "metadata": {
            "tags": []
          }
        }
      ]
    },
    {
      "cell_type": "markdown",
      "metadata": {
        "id": "ZemI_wSE448D",
        "colab_type": "text"
      },
      "source": [
        "So, you can we achieve 92% accuracy in Logistic Regression which is best amoung all other.\n",
        "\n",
        "**Conclusion**\n",
        "\n",
        "This dataset is very small but helped me to create a simple model and machine learning techniques. \n",
        "\n",
        "ML technologies have become increasingly important and has a greater role in medical devices and Pharma Industry."
      ]
    },
    {
      "cell_type": "markdown",
      "metadata": {
        "id": "MsWXP56a5x-q",
        "colab_type": "text"
      },
      "source": [
        "## **ThankYou!!!!!**"
      ]
    }
  ]
}
